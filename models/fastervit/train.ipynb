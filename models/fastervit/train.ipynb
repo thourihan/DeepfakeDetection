{
 "cells": [
  {
   "cell_type": "code",
   "execution_count": null,
   "id": "157c2138",
   "metadata": {},
   "outputs": [],
   "source": [
    "# Import required libraries\n",
    "import torch\n",
    "import torch.nn as nn\n",
    "import torch.optim as optim\n",
    "from torchvision import datasets, transforms\n",
    "from torch.utils.data import DataLoader\n",
    "from efficientnet_pytorch import EfficientNet\n",
    "from torchvision.transforms import RandomErasing\n",
    "from fastervit.models.faster_vit import FasterViT\n",
    "from fastervit import create_model\n",
    "import os"
   ]
  },
  {
   "cell_type": "code",
   "execution_count": null,
   "id": "baae3c07",
   "metadata": {},
   "outputs": [],
   "source": [
    "# Check if CUDA is available\n",
    "if torch.cuda.is_available():\n",
    "    torch.set_default_tensor_type(torch.cuda.FloatTensor)\n",
    "    device = torch.device(\"cuda:0\")\n",
    "    print(f\"Running on {torch.cuda.get_device_name(device)}\")\n",
    "else:\n",
    "    device = torch.device(\"cpu\")\n",
    "    print(\"Running on CPU\")"
   ]
  },
  {
   "cell_type": "code",
   "execution_count": null,
   "id": "590e0e6c",
   "metadata": {},
   "outputs": [],
   "source": [
    "# Data augmentation for the training set\n",
    "train_transform = transforms.Compose([\n",
    "    transforms.Resize((224, 224)),\n",
    "    transforms.RandomHorizontalFlip(),\n",
    "    transforms.RandomRotation(10),\n",
    "    transforms.ColorJitter(brightness=0.2, contrast=0.2, saturation=0.2),\n",
    "    transforms.ToTensor(),\n",
    "    transforms.Normalize(mean=[0.485, 0.456, 0.406], std=[0.229, 0.224, 0.225]),\n",
    "    RandomErasing(p=0.5, scale=(0.02, 0.33), ratio=(0.3, 3.3), value=0, inplace=False)\n",
    "])"
   ]
  },
  {
   "cell_type": "code",
   "execution_count": null,
   "id": "70ff22cf",
   "metadata": {},
   "outputs": [],
   "source": [
    "# Set dataset paths (relative for portability)\n",
    "train_dataset_path = \"Dataset/train\"\n",
    "val_dataset_path = \"Dataset/validation\"\n",
    "test_dataset_path = \"Dataset/test\"\n",
    "\n",
    "# Data loaders\n",
    "train_dataset = datasets.ImageFolder(train_dataset_path, transform=train_transform)\n",
    "train_loader = DataLoader(train_dataset, batch_size=32, shuffle=True, num_workers=8)\n",
    "val_dataset = datasets.ImageFolder(val_dataset_path, transform=train_transform)\n",
    "val_loader = DataLoader(val_dataset, batch_size=32, shuffle=False, num_workers=8)\n",
    "test_dataset = datasets.ImageFolder(test_dataset_path, transform=train_transform)\n",
    "test_loader = DataLoader(test_dataset, batch_size=32, shuffle=False, num_workers=8)"
   ]
  },
  {
   "cell_type": "code",
   "execution_count": null,
   "id": "9b05016e",
   "metadata": {},
   "outputs": [],
   "source": [
    "# Model setup\n",
    "model_dir = \"fastervit_2_224_1k.pth\"\n",
    "os.makedirs(model_dir, exist_ok=True)\n",
    "model_path = os.path.join(model_dir, \"faster_vit_2.pth.tar\")\n",
    "model_name = 'faster_vit_2_224'\n",
    "model = create_model(model_name, pretrained=True, model_path=model_path)\n",
    "num_classes = 2\n",
    "in_features = model.head.in_features\n",
    "model.head = torch.nn.Linear(in_features, num_classes)\n",
    "model = model.to(device)"
   ]
  },
  {
   "cell_type": "code",
   "execution_count": null,
   "id": "1e91b59b",
   "metadata": {},
   "outputs": [],
   "source": [
    "# Loss and Optimizer with L2 Regularization (Weight Decay)\n",
    "criterion = nn.CrossEntropyLoss()\n",
    "optimizer = optim.Adam(model.parameters(), lr=0.001, weight_decay=1e-5)"
   ]
  },
  {
   "cell_type": "code",
   "execution_count": null,
   "id": "d08d1e26",
   "metadata": {},
   "outputs": [],
   "source": [
    "# Training Loop\n",
    "num_epochs = 3\n",
    "for epoch in range(num_epochs):\n",
    "    model.train()\n",
    "    for i, (images, labels) in enumerate(train_loader):\n",
    "        images, labels = images.to(device), labels.to(device)\n",
    "        optimizer.zero_grad()\n",
    "        outputs = model(images)\n",
    "        loss = criterion(outputs, labels)\n",
    "        loss.backward()\n",
    "        optimizer.step()\n",
    "        if (i + 1) % 100 == 0:\n",
    "            print(f\"Epoch [{epoch + 1}/{num_epochs}], Step [{i + 1}/{len(train_loader)}], Loss: {loss.item():.4f}\")\n",
    "    # Save the model at the end of each epoch\n",
    "    torch.save({\n",
    "        'epoch': epoch,\n",
    "        'model_state_dict': model.state_dict(),\n",
    "        'optimizer_state_dict': optimizer.state_dict(),\n",
    "        'loss': loss.item(),\n",
    "    }, f\"model_epoch_{epoch+1}.pth\")"
   ]
  },
  {
   "cell_type": "code",
   "execution_count": null,
   "id": "73ae6a62",
   "metadata": {},
   "outputs": [],
   "source": [
    "# Validation Loop\n",
    "best_val_accuracy = 0\n",
    "model.eval()\n",
    "with torch.no_grad():\n",
    "    correct = 0\n",
    "    total = 0\n",
    "    for images, labels in val_loader:\n",
    "        images, labels = images.to(device), labels.to(device)\n",
    "        outputs = model(images)\n",
    "        _, predicted = torch.max(outputs.data, 1)\n",
    "        total += labels.size(0)\n",
    "        correct += (predicted == labels).sum().item()\n",
    "    current_val_accuracy = 100 * correct / total\n",
    "    print(f\"Validation Accuracy: {current_val_accuracy}%\")\n",
    "    if current_val_accuracy > best_val_accuracy:\n",
    "        best_val_accuracy = current_val_accuracy\n",
    "        torch.save(model.state_dict(), 'best_model_val_accuracy.pth')"
   ]
  },
  {
   "cell_type": "code",
   "execution_count": null,
   "id": "a03dde2a",
   "metadata": {},
   "outputs": [],
   "source": [
    "# Test Loop with Confusion Matrix\n",
    "from sklearn.metrics import confusion_matrix\n",
    "import seaborn as sns\n",
    "import matplotlib.pyplot as plt\n",
    "model.eval()\n",
    "all_labels = []\n",
    "all_preds = []\n",
    "with torch.no_grad():\n",
    "    for images, labels in test_loader:\n",
    "        images, labels = images.to(device), labels.to(device)\n",
    "        outputs = model(images)\n",
    "        _, predicted = torch.max(outputs.data, 1)\n",
    "        all_labels.extend(labels.cpu().numpy())\n",
    "        all_preds.extend(predicted.cpu().numpy())\n",
    "conf_mat = confusion_matrix(all_labels, all_preds)\n",
    "sns.heatmap(conf_mat, annot=True, fmt=\"d\")\n",
    "plt.xlabel(\"Predicted\")\n",
    "plt.ylabel(\"True\")\n",
    "plt.show()\n",
    "# Calculate and print test accuracy\n",
    "correct = sum([1 for i, j in zip(all_labels, all_preds) if i == j])\n",
    "total = len(all_labels)\n",
    "print(f\"Test Accuracy: {100 * correct / total}%\")\n",
    "torch.save(model.state_dict(), 'model_after_test.pth')"
   ]
  }
 ],
 "metadata": {
  "language_info": {
   "name": "python"
  }
 },
 "nbformat": 4,
 "nbformat_minor": 5
}
